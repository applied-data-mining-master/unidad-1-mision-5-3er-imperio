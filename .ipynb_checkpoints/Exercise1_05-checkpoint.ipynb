{
 "cells": [
  {
   "cell_type": "markdown",
   "metadata": {},
   "source": [
    "# Exercise 1.05: Finding the Shortest Path Using BFS\n",
    "\n",
    "In this exercise, we will be finding the shortest path to our goal using the BFS algorithm."
   ]
  },
  {
   "cell_type": "markdown",
   "metadata": {},
   "source": [
    "1.- Begin by importing the math library"
   ]
  },
  {
   "cell_type": "code",
   "execution_count": 1,
   "metadata": {},
   "outputs": [],
   "source": [
    "import math"
   ]
  },
  {
   "cell_type": "markdown",
   "metadata": {},
   "source": [
    "2.- Describe the board of the Figure 1.14, the initial state, and the final state using Python.\n",
    "\n",
    "  > **Hints**  \n",
    "  >  * Create a function that returns a list of possible successors. Use tuples, where the first coordinate denotes the row number from $1$ to $7$ and the second coordinate denotes the column number from $1$ to $9$. Then use array comprehension to generate the successor states.\n",
    "  >  * The function generate all the possible moves from a current field that does not end up being blocked by an obstacle. Also add a filter to exclude moves that return to a field visited already to avoid infinite loops.\n",
    "  "
   ]
  },
  {
   "cell_type": "code",
   "execution_count": 2,
   "metadata": {},
   "outputs": [],
   "source": [
    "tamanio = (7, 9)\n",
    "empieza_en = (5, 3)\n",
    "termina_en = (6, 9)\n",
    "\n",
    "obstaculos = {\n",
    "            (3, 4), (3, 5), (3, 6), (3, 7), (3, 8),\n",
    "            (4, 5),\n",
    "            (5, 5),\n",
    "            (6, 2), (6, 3), (6, 4), (6, 5),\n",
    "            (5, 7),\n",
    "            (6, 7),\n",
    "            (7, 7),\n",
    "            (5, 9)\n",
    "}\n",
    "\n",
    "\n",
    "def possible_successors(estado, nodos_visitados):\n",
    "    (fila, columna) = estado\n",
    "    (max_fila, max_columna) = tamanio\n",
    "    succ_estados = []\n",
    "    if (fila > 1):\n",
    "        succ_estados += [(fila-1, columna)]\n",
    "    if (columna > 1):\n",
    "        succ_estados += [(fila, columna-1)]\n",
    "    if (fila < max_fila):\n",
    "        succ_estados += [(fila+1, columna)]\n",
    "    if (columna < max_columna):\n",
    "        succ_estados += [(fila, columna+1)]\n",
    "    return [s for s in succ_estados if s not in nodos_visitados if s not in obstaculos]\n"
   ]
  },
  {
   "cell_type": "markdown",
   "metadata": {},
   "source": [
    "3.-  Implement the initial costs"
   ]
  },
  {
   "cell_type": "code",
   "execution_count": 3,
   "metadata": {},
   "outputs": [],
   "source": [
    "def initialize_costs(tamanio, empieza_en):\n",
    "    (h, w) = tamanio\n",
    "    costs = [[math.inf] * w for i in range(h)]\n",
    "    (x, y) = empieza_en\n",
    "    costs[x-1][y-1] = 0\n",
    "    return costs"
   ]
  },
  {
   "cell_type": "markdown",
   "metadata": {},
   "source": [
    "4.- Implement the updated costs using `costs`, `current_node`, and `successor_node`"
   ]
  },
  {
   "cell_type": "code",
   "execution_count": 4,
   "metadata": {},
   "outputs": [],
   "source": [
    "def updated_costs(costs, current_node, successor_nodes):\n",
    "    new_cost = costs[current_node[0]-1][current_node[1]-1] + 1\n",
    "    for (x, y) in successor_nodes:\n",
    "        costs[x-1][y-1] = min(costs[x-1][y-1], new_cost)"
   ]
  },
  {
   "cell_type": "markdown",
   "metadata": {},
   "source": [
    "5.- Finally, implement the BFS algorithm to search the state of the tree and save the result in a variable called `bfs`.\n",
    "\n",
    "  > **Hints**  \n",
    "  > You can reuse the `bfs_tree` function that we looked at earlier in the Breadth First Search section. However, add the `update_costs` function to update the costs.\n",
    "\n",
    "The expected output is this:\n",
    "\n",
    "```\n",
    "[[6, 5, 4, 5, 6, 7, 8, 9, 10],\n",
    " [5, 4, 3, 4, 5, 6, 7, 8, 9],\n",
    " [4, 3, 2, inf, inf, inf, inf, inf, 10],\n",
    " [3, 2, 1, 2, inf, 12, 13, 12, 11],\n",
    " [2, 1, 0, 1, inf, 11, inf, 13, inf],\n",
    " [3, inf, inf, inf, inf, 10, inf, 14, 15],\n",
    " [4, 5, 6, 7, 8, 9, inf, 15, 16]]\n",
    "```"
   ]
  },
  {
   "cell_type": "code",
   "execution_count": 5,
   "metadata": {},
   "outputs": [
    {
     "data": {
      "text/plain": [
       "[[6, 5, 4, 5, 6, 7, 8, 9, 10],\n",
       " [5, 4, 3, 4, 5, 6, 7, 8, 9],\n",
       " [4, 3, 2, inf, inf, inf, inf, inf, 10],\n",
       " [3, 2, 1, 2, inf, 12, 13, 12, 11],\n",
       " [2, 1, 0, 1, inf, 11, inf, 13, inf],\n",
       " [3, inf, inf, inf, inf, 10, inf, 14, 15],\n",
       " [4, 5, 6, 7, 8, 9, inf, 15, 16]]"
      ]
     },
     "execution_count": 5,
     "metadata": {},
     "output_type": "execute_result"
    }
   ],
   "source": [
    "def bfs_tree(node):\n",
    "    nodes_to_visit = [node]\n",
    "    nodos_visitados = []\n",
    "    costs = initialize_costs(tamanio, empieza_en)\n",
    "    while len(nodes_to_visit) > 0:\n",
    "        current_node = nodes_to_visit.pop(0)\n",
    "        nodos_visitados.append(current_node)\n",
    "        successor_nodes = possible_successors(current_node, nodos_visitados)\n",
    "        updated_costs(costs, current_node, successor_nodes)\n",
    "        nodes_to_visit.extend(successor_nodes)\n",
    "    return costs\n",
    "\n",
    "bfs = bfs_tree(empieza_en)\n",
    "bfs"
   ]
  },
  {
   "cell_type": "markdown",
   "metadata": {},
   "source": [
    "6.- Measure the number of steps required to find the goal node and save the result in the bfs_v variable.\n",
    "\n",
    "  > **Hints**  \n",
    "  > Re define the `bfs_tree` and add a step counter variable in order to print the number of steps at the end of the search\n",
    "  \n",
    "Output\n",
    "\n",
    "```\n",
    "End node has been reached in 110 steps\n",
    "[[6, 5, 4, 5, 6, 7, 8, 9, 10],\n",
    " [5, 4, 3, 4, 5, 6, 7, 8, 9],\n",
    " [4, 3, 2, inf, inf, inf, inf, inf, 10],\n",
    " [3, 2, 1, 2, inf, 12, 13, 12, 11],\n",
    " [2, 1, 0, 1, inf, 11, inf, 13, inf],\n",
    " [3, inf, inf, inf, inf, 10, inf, 14, 15],\n",
    " [4, 5, 6, 7, 8, 9, inf, 15, 16]]\n",
    "```"
   ]
  },
  {
   "cell_type": "code",
   "execution_count": 6,
   "metadata": {},
   "outputs": [
    {
     "name": "stdout",
     "output_type": "stream",
     "text": [
      "End node has been reached  110  steps.\n"
     ]
    },
    {
     "data": {
      "text/plain": [
       "[[6, 5, 4, 5, 6, 7, 8, 9, 10],\n",
       " [5, 4, 3, 4, 5, 6, 7, 8, 9],\n",
       " [4, 3, 2, inf, inf, inf, inf, inf, 10],\n",
       " [3, 2, 1, 2, inf, 12, 13, 12, 11],\n",
       " [2, 1, 0, 1, inf, 11, inf, 13, inf],\n",
       " [3, inf, inf, inf, inf, 10, inf, 14, 15],\n",
       " [4, 5, 6, 7, 8, 9, inf, 15, 16]]"
      ]
     },
     "execution_count": 6,
     "metadata": {},
     "output_type": "execute_result"
    }
   ],
   "source": [
    "def bfs_tree_verbose(node):\n",
    "    nodes_to_visit = [node]\n",
    "    nodos_visitados = []\n",
    "    costs = initialize_costs(tamanio, empieza_en)\n",
    "    step_counter = 0\n",
    "    while len(nodes_to_visit) > 0:\n",
    "        step_counter += 1\n",
    "        current_node = nodes_to_visit.pop(0)\n",
    "        nodos_visitados.append(current_node)\n",
    "        successor_nodes = possible_successors(current_node, nodos_visitados)\n",
    "        updated_costs(costs, current_node, successor_nodes)\n",
    "        nodes_to_visit.extend(successor_nodes)\n",
    "        if current_node == termina_en:\n",
    "            print('End node has been reached ', step_counter, ' steps.')\n",
    "            return costs\n",
    "    return costs\n",
    "    \n",
    "bfs_v = bfs_tree_verbose(empieza_en)\n",
    "bfs_v"
   ]
  },
  {
   "cell_type": "markdown",
   "metadata": {},
   "source": [
    "In this exercise, we used the BFS algorithm to find the shortest path to the goal. It took BFS 110 steps to reach the goal. Now, we will learn about an algorithm that can find the shortest path from the start node to the goal node: the A* algorithm."
   ]
  },
  {
   "cell_type": "code",
   "execution_count": null,
   "metadata": {},
   "outputs": [],
   "source": []
  }
 ],
 "metadata": {
  "kernelspec": {
   "display_name": "Python 3",
   "language": "python",
   "name": "python3"
  },
  "language_info": {
   "codemirror_mode": {
    "name": "ipython",
    "version": 3
   },
   "file_extension": ".py",
   "mimetype": "text/x-python",
   "name": "python",
   "nbconvert_exporter": "python",
   "pygments_lexer": "ipython3",
   "version": "3.8.5"
  }
 },
 "nbformat": 4,
 "nbformat_minor": 4
}
