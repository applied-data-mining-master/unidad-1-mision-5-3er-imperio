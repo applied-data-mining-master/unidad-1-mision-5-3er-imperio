{
 "cells": [
  {
   "cell_type": "markdown",
   "metadata": {},
   "source": [
    "# Exercise 1.04: Tic-Tac-Toe Static Evaluation with a Heuristic Function\n",
    "In this exercise, you will be performing a static evaluation on the tic-tac-toe game using a heuristic function."
   ]
  },
  {
   "cell_type": "markdown",
   "metadata": {},
   "source": [
    "1.- Reuse the code from Steps 1–5 of Activity 1.01"
   ]
  },
  {
   "cell_type": "code",
   "execution_count": 1,
   "metadata": {},
   "outputs": [],
   "source": [
    "from random import choice\n",
    "\n",
    "combo_indices = [\n",
    "    [0, 1, 2],\n",
    "    [3, 4, 5],\n",
    "    [6, 7, 8],\n",
    "    [0, 3, 6],\n",
    "    [1, 4, 7],\n",
    "    [2, 5, 8],\n",
    "    [0, 4, 8],\n",
    "    [2, 4, 6]\n",
    "]\n",
    "\n",
    "signo_vacio = '.'\n",
    "signo_ia = 'X'\n",
    "signo_oponente = 'O'\n",
    "\n",
    "def print_board(board):\n",
    "    print(\" \")\n",
    "    print(' '.join(board[:3]))\n",
    "    print(' '.join(board[3:6]))\n",
    "    print(' '.join(board[6:]))\n",
    "    print(\" \")\n",
    "\n",
    "def opponent_move(board, row, column):\n",
    "    index = 3 * (row - 1) + (column - 1)\n",
    "    if board[index] == signo_vacio:\n",
    "        return board[:index] + signo_oponente + board[index+1:]\n",
    "    return board\n",
    "\n",
    "def all_moves_from_board(board, sign):\n",
    "    lista_movimientos = []\n",
    "    for i, v in enumerate(board):\n",
    "        if v == signo_vacio:\n",
    "            lista_movimientos.append(board[:i] + sign + board[i+1:])\n",
    "    return lista_movimientos\n",
    "\n",
    "def ai_move(board):\n",
    "    return choice(all_moves_from_board(board, signo_ia))\n",
    "\n",
    "def game_won_by(board):\n",
    "    for indice in combo_indices:\n",
    "        if board[indice[0]] == board[indice[1]] == board[indice[2]] != signo_vacio:\n",
    "            return board[indice[0]]\n",
    "    return signo_vacio\n",
    "\n",
    "def game_loop():\n",
    "    board = signo_vacio * 9\n",
    "    contador_vacias = 9\n",
    "    juego_terminado = False\n",
    "    while contador_vacias > 0 and not juego_terminado:\n",
    "        if contador_vacias % 2 == 1:\n",
    "            board = ai_move(board)\n",
    "        else:\n",
    "            fila = int(input('Ingresa fila: '))\n",
    "            columna = int(input('Ingresa columna: '))\n",
    "            board = opponent_move(board, fila, columna)\n",
    "        print_board(board)\n",
    "        juego_terminado = game_won_by(board) != signo_vacio\n",
    "        contador_vacias = sum(1 for cell in board if cell == signo_vacio)\n",
    "    print('El juego ha finalizado.')\n",
    "\n",
    "def all_moves_from_board_list(board_list, sign):\n",
    "    lista_movimientos = []\n",
    "    for board in board_list:\n",
    "        lista_movimientos.extend(all_moves_from_board(board, sign))\n",
    "    return lista_movimientos\n",
    "\n",
    "def filter_wins(lista_movimientos, ia_gana, oponente_gana):\n",
    "    for board in lista_movimientos:\n",
    "        won_by = game_won_by(board)\n",
    "        if won_by == signo_ia:\n",
    "            ia_gana.append(board)\n",
    "            lista_movimientos.remove(board)\n",
    "        elif won_by == signo_oponente:\n",
    "            oponente_gana.append(board)\n",
    "            lista_movimientos.remove(board)\n",
    "\n",
    "def count_possibilities():\n",
    "    board = signo_vacio * 9\n",
    "    lista_movimientos = [board]\n",
    "    ia_gana = []\n",
    "    oponente_gana = []\n",
    "    for i in range(9):\n",
    "        print('Step ' + str(i) + '. Moves: ' + str(len(lista_movimientos)))\n",
    "        sign = signo_ia if i % 2 == 0 else signo_oponente\n",
    "        lista_movimientos = all_moves_from_board_list(lista_movimientos, sign)\n",
    "        filter_wins(lista_movimientos, ia_gana, oponente_gana)\n",
    "    print('First player wins: ' + str(len(ia_gana)))\n",
    "    print('Second player wins: ' + str(len(oponente_gana)))\n",
    "    print('Draw', str(len(lista_movimientos)))\n",
    "    print('Total', str(len(ia_gana) + len(oponente_gana) + len(lista_movimientos)))\n",
    "    return len(ia_gana), len(oponente_gana), len(lista_movimientos), len(ia_gana) + len(oponente_gana) + len(lista_movimientos)"
   ]
  },
  {
   "cell_type": "markdown",
   "metadata": {},
   "source": [
    "2.- Create a function that takes the board as input and returns $0$ if the cell is empty, and $-1$ if it's not empty"
   ]
  },
  {
   "cell_type": "code",
   "execution_count": 2,
   "metadata": {},
   "outputs": [],
   "source": [
    "def takes_board_as_input(board):\n",
    "    return [0 if cell == signo_vacio else -1 for cell in board]"
   ]
  },
  {
   "cell_type": "markdown",
   "metadata": {},
   "source": [
    "3.- Create a function that takes the utility vector of possible moves, takes three indices inside the utility vector representing a triple, and returns a function.\n",
    "\n",
    "  > **Hints**  \n",
    "  > the returned function will expect a `points` parameter and the `utilities` vector as input and will add points to each cell in $(i, j, k)$, as long as the original value of that cell is non-negative $(>=0)$. In other words, we increased the utility of empty cells only."
   ]
  },
  {
   "cell_type": "code",
   "execution_count": 3,
   "metadata": {},
   "outputs": [],
   "source": [
    "def takes_unity_vector(utilities, i, j, k):\n",
    "    def add_score(points):\n",
    "        if utilities[i] >= 0:\n",
    "            utilities[i] += points\n",
    "        if utilities[j] >= 0:\n",
    "            utilities[j] += points\n",
    "        if utilities[k] >= 0:\n",
    "            utilities[k] += points\n",
    "    return add_score"
   ]
  },
  {
   "cell_type": "markdown",
   "metadata": {},
   "source": [
    "4.- Now, create the utility matrix belonging to any board constellation where you will add the `generate_add_score` function defined previously to update the score. You will also implement the rules that we discussed prior to this activity. These rules are as follows:\n",
    "  * Two AI signs in a row, column, or diagonal, and the third cell is empty: +1000 for the empty cell.\n",
    "  * The opponent has two signs in a row, column, or diagonal, and the third cell is empty: +100 for the empty cell.\n",
    "  * One AI sign in a row, column, or diagonal, and the other two cells are empty: +10 for the empty cells.\n",
    "  * No AI or opponent signs in a row, column, or diagonal: +1 for the empty cells."
   ]
  },
  {
   "cell_type": "code",
   "execution_count": 4,
   "metadata": {},
   "outputs": [],
   "source": [
    "def utility_matrix(board):\n",
    "    utilities = takes_board_as_input(board)\n",
    "    for [i, j, k] in combo_indices:\n",
    "        add_score = takes_unity_vector(utilities, i, j, k)\n",
    "        triple = [board[i], board[j], board[k]]\n",
    "        if triple.count(signo_vacio) == 1:\n",
    "            if triple.count(signo_ia) == 2:\n",
    "                add_score(1000)\n",
    "            elif triple.count(signo_oponente) == 2:\n",
    "                add_score(100)\n",
    "        elif triple.count(signo_vacio) == 2 and triple.count(signo_ia) == 1:\n",
    "            add_score(10)\n",
    "        elif triple.count(signo_vacio) == 3:\n",
    "            add_score(1)\n",
    "    return utilities"
   ]
  },
  {
   "cell_type": "markdown",
   "metadata": {},
   "source": [
    "5.- Create a function that selects the move with the highest utility value. If multiple moves have the same utility, the function returns both moves"
   ]
  },
  {
   "cell_type": "code",
   "execution_count": 5,
   "metadata": {},
   "outputs": [],
   "source": [
    "def highest_utility_value(board, sign):\n",
    "    lista_movimientos = []\n",
    "    utilities = utility_matrix(board)\n",
    "    max_utility = max(utilities)\n",
    "    for i, v in enumerate(board):\n",
    "        if utilities[i] == max_utility:\n",
    "            lista_movimientos.append(board[:i] + sign + board[i+1:])\n",
    "    return lista_movimientos\n",
    "\n",
    "def all_moves_from_board_list(board_list, sign):\n",
    "    lista_movimientos = []\n",
    "    get_moves = highest_utility_value if sign == signo_ia else all_moves_from_board\n",
    "    for board in board_list:\n",
    "        lista_movimientos.extend(get_moves(board, sign))\n",
    "    return lista_movimientos"
   ]
  },
  {
   "cell_type": "markdown",
   "metadata": {},
   "source": [
    "6.- Run the application.\n",
    "\n",
    "Output:\n",
    "\n",
    "```\n",
    "step 0. Moves: 1\n",
    "step 1. Moves: 1\n",
    "step 2. Moves: 8\n",
    "step 3. Moves: 24\n",
    "step 4. Moves: 144\n",
    "step 5. Moves: 83\n",
    "step 6. Moves: 214\n",
    "step 7. Moves: 148\n",
    "step 8. Moves: 172\n",
    "First player wins: 504\n",
    "Second player wins: 12\n",
    "Draw 91\n",
    "Total 607\n",
    "```"
   ]
  },
  {
   "cell_type": "code",
   "execution_count": 6,
   "metadata": {
    "scrolled": true
   },
   "outputs": [
    {
     "name": "stdout",
     "output_type": "stream",
     "text": [
      "Step 0. Moves: 1\n",
      "Step 1. Moves: 1\n",
      "Step 2. Moves: 8\n",
      "Step 3. Moves: 24\n",
      "Step 4. Moves: 144\n",
      "Step 5. Moves: 83\n",
      "Step 6. Moves: 214\n",
      "Step 7. Moves: 148\n",
      "Step 8. Moves: 172\n",
      "First player wins: 504\n",
      "Second player wins: 12\n",
      "Draw 91\n",
      "Total 607\n"
     ]
    }
   ],
   "source": [
    "first_player, second_player, draw, total = count_possibilities()"
   ]
  },
  {
   "cell_type": "markdown",
   "metadata": {},
   "source": [
    "By completing this exercise, we have observed that the AI is underperforming compared to our previous activity, Activity 1.03, Fixing the First and Second Moves of the AI to Make It Invincible. In this situation, hardcoding the first two moves was better than setting up the heuristic, but this is because we haven't set up the heuristic properly."
   ]
  },
  {
   "cell_type": "code",
   "execution_count": null,
   "metadata": {},
   "outputs": [],
   "source": []
  }
 ],
 "metadata": {
  "kernelspec": {
   "display_name": "Python 3",
   "language": "python",
   "name": "python3"
  },
  "language_info": {
   "codemirror_mode": {
    "name": "ipython",
    "version": 3
   },
   "file_extension": ".py",
   "mimetype": "text/x-python",
   "name": "python",
   "nbconvert_exporter": "python",
   "pygments_lexer": "ipython3",
   "version": "3.8.5"
  }
 },
 "nbformat": 4,
 "nbformat_minor": 4
}
